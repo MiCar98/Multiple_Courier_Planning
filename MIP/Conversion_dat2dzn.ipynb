{
 "cells": [
  {
   "cell_type": "code",
   "execution_count": 6,
   "id": "d00ec98a-43b1-4638-ae2e-ccee07cf5489",
   "metadata": {},
   "outputs": [],
   "source": [
    "def transform_dat_file(input_file, output_file):\n",
    "    with open(input_file, 'r') as infile:\n",
    "        lines = infile.readlines()\n",
    "    \n",
    "    # Parse input data\n",
    "    m = int(lines[0].strip())  # Number of couriers\n",
    "    n = int(lines[1].strip())  # Number of distribution points (objects)\n",
    "    \n",
    "    # Courier capacities (next line contains m values)\n",
    "    l = list(map(int, lines[2].strip().split()))\n",
    "    \n",
    "    # Object sizes (next line contains n values)\n",
    "    s = list(map(int, lines[3].strip().split()))\n",
    "    \n",
    "    # Distance matrix (n+1 by n+1 matrix)\n",
    "    D = []\n",
    "    for i in range(4, 4 + (n + 1)):  # Distance matrix starts at line 4 and has (n+1) rows\n",
    "        row = list(map(int, lines[i].strip().split()))\n",
    "        D.append(row)\n",
    "    \n",
    "    # Create output in AMPL format with scalars\n",
    "    with open(output_file, 'w') as outfile:\n",
    "        # Write scalar n and m\n",
    "        outfile.write(f\"param n := {n};\\n\")\n",
    "        outfile.write(f\"param m := {m};\\n\")\n",
    "        \n",
    "        # Write the distance matrix\n",
    "        outfile.write(\"param D : \" + ' '.join(map(str, range(1, n+2))) + \" :=\\n\")\n",
    "        for i in range(1, n+2):\n",
    "            outfile.write(f\"    {i} \" + ' '.join(map(str, D[i-1])) + \"\\n\")\n",
    "        outfile.write(\";\\n\")\n",
    "        \n",
    "        # Write the courier capacities\n",
    "        outfile.write(\"param l :=\\n\")\n",
    "        for k in range(1, m+1):\n",
    "            outfile.write(f\"    {k} {l[k-1]}\\n\")\n",
    "        outfile.write(\";\\n\")\n",
    "        \n",
    "        # Write the object sizes\n",
    "        outfile.write(\"param s :=\\n\")\n",
    "        for j in range(1, n+1):\n",
    "            outfile.write(f\"    {j} {s[j-1]}\\n\")\n",
    "        outfile.write(\";\\n\")"
   ]
  },
  {
   "cell_type": "code",
   "execution_count": 7,
   "id": "7b266784-0d50-4ecd-a804-a038168bb9ce",
   "metadata": {},
   "outputs": [],
   "source": [
    "for f in range(1,22):\n",
    "    if f<10:\n",
    "        name=\"inst0\"+str(f)\n",
    "    else:\n",
    "        name=\"inst\"+str(f)\n",
    "    transform_dat_file('instances/'+name+'.dat', 'instances/'+name+'_transformed.dat')"
   ]
  }
 ],
 "metadata": {
  "kernelspec": {
   "display_name": "base",
   "language": "python",
   "name": "python3"
  },
  "language_info": {
   "codemirror_mode": {
    "name": "ipython",
    "version": 3
   },
   "file_extension": ".py",
   "mimetype": "text/x-python",
   "name": "python",
   "nbconvert_exporter": "python",
   "pygments_lexer": "ipython3",
   "version": "3.11.5"
  }
 },
 "nbformat": 4,
 "nbformat_minor": 5
}
