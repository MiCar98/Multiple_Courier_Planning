{
 "cells": [
  {
   "cell_type": "code",
   "execution_count": 24,
   "metadata": {},
   "outputs": [],
   "source": [
    "import os, pandas, numpy as np\n",
    "from amplpy import AMPL"
   ]
  },
  {
   "cell_type": "code",
   "execution_count": null,
   "metadata": {},
   "outputs": [
    {
     "name": "stdout",
     "output_type": "stream",
     "text": [
      "1455 226\n",
      "subject to Capacity{i in 1 .. m} : sum{j in 1 .. n} ( if B[j] == i then 1)*s[j\n",
      "  ] <= l[i];\n",
      "subject to EndAtDepot: sum{i in 1 .. n} A[i,n + 1] == sum{k in 1 .. m} k;\n",
      "subject to FlowConservation{i in 1 .. n + 1} : sum{j in 1 .. n + 1} A[i,j]\n",
      "   == sum{j in 1 .. n + 1} A[j,i];\n",
      "subject to LB: maxDist >= 226;\n",
      "subject to LowerBound_u{j in 1 .. n} : u[j] >= s[j];\n",
      "subject to MaxDistanceConstraint{k in 1 .. m} : sum{i in 1 .. n + 1, j in 1\n",
      "   .. n + 1} ( if A[i,j] == k then 1)*D[i,j] <= maxDist;\n",
      "subject to NoBounceBack{i in 1 .. n + 1, j in 1 .. n + 1} : A[i,j]*A[j,i]\n",
      "   == 0;\n",
      "subject to NoSelfLoops{i in 1 .. n + 1} : A[i,i] == 0;\n",
      "subject to NoSubtourTry{i in 1 .. n} : sum{j in 1 .. n + 1} A[i,j] == B[i];\n",
      "subject to StartAtDepot: sum{i in 1 .. n} A[n + 1,i] == sum{k in 1 .. m} k;\n",
      "subject to UB: maxDist <= 1455;\n",
      "subject to VisitOnce{j in 1 .. n} : sum{i in 1 .. n + 1} A[i,j] == B[j];\n"
     ]
    }
   ],
   "source": [
    "# Initialize AMPL object\n",
    "ampl = AMPL()\n",
    "\n",
    "# Directory where the instance files are located\n",
    "instance_dir = \"instances\"\n",
    "\n",
    "# Ask user for the instance number to solve\n",
    "instance = int(input(\"Enter the instance number to solve (1-21): \"))\n",
    "instance_file = os.path.join(instance_dir, f\"inst{instance:02d}.dat\") #_transformed\n",
    "\n",
    "# Read the first line of the instance file to get the value of n\n",
    "with open(instance_file, 'r') as file:\n",
    "    _ = file.readline()\n",
    "    first_line = file.readline().strip()\n",
    "    n = int(first_line)\n",
    "    D = []\n",
    "    _ = file.readline()\n",
    "    _ = file.readline()\n",
    "\n",
    "\n",
    "    for i in range(n+1):\n",
    "        d_split = file.readline().split()\n",
    "        d_row = []\n",
    "        for j in d_split:\n",
    "            d_row.append(int(j))\n",
    "        D.append(d_row)\n",
    "    Dnp = np.array(D)\n",
    "        \n",
    "\n",
    "# # Check if the matrix is symmetric\n",
    "# is_symmetric = np.array_equal(D, D.T)\n",
    "# print(f\"The matrix D is symmetric: {is_symmetric}\")\n",
    "\n",
    "# # Load the AMPL model\n",
    "# if is_symmetric:\n",
    "#     ampl.read(\"model1_sb.mod\")\n",
    "# else:\n",
    "#     ampl.read(\"model1.mod\")\n",
    "ampl.read(\"mod_new.mod\")\n",
    "\n",
    "#Starting from D compute Upper and Lower bound for the problem:\n",
    "round_trips=[]\n",
    "for i in range(n):\n",
    "    round_trips.append(Dnp[i][n]+Dnp[n][i])\n",
    "LB = max(round_trips)\n",
    "#LLB = min(round_trips)\n",
    "\n",
    "UB = 0\n",
    "for i in range(n):\n",
    "    UB+=max(Dnp[i,:])\n",
    "constraint_str1 = f\"subject to UB: maxDist <= {UB};\"\n",
    "constraint_str2 = f\"subject to LB: maxDist >= {LB};\"\n",
    "\n",
    "ampl.eval(constraint_str1)\n",
    "ampl.eval(constraint_str2)\n",
    "\n",
    "# for constraint in ampl.get_constraints():\n",
    "#     print(constraint[1])\n",
    "\n",
    "# Load the data for the current instance\n",
    "instance_file = os.path.join(instance_dir, f\"inst{instance:02d}_transformed.dat\")\n",
    "ampl.readData(instance_file)"
   ]
  },
  {
   "cell_type": "code",
   "execution_count": null,
   "metadata": {},
   "outputs": [],
   "source": [
    "# Solve the model\n",
    "#ampl.solve(solver=\"cbc\", cbc_options=\"seconds=2 timing=2\")\n",
    "ampl.solve(solver=\"highs\", highs_options=\"timelim=300 timing=2\")\n",
    "\n",
    "# Get the solution for variables (e.g., x, u, maxDist)\n",
    "A = ampl.getVariable(\"A\").getValues()\n",
    "B = ampl.getVariable(\"B\").getValues()\n",
    "\n",
    "u = ampl.getVariable(\"u\").getValues()\n",
    "maxDist = ampl.getVariable(\"maxDist\").value()\n",
    "\n",
    "# Print the results (or process them as needed)\n",
    "print(f\"\\nResults for instance inst{instance:02d}.dat:\")\n",
    "print(f\"A: {A}\")\n",
    "print(f\"B: {B}\")\n",
    "print(f\"u: {u}\")\n",
    "print(f\"maxDist: {maxDist}\")\n",
    "print(\"-\" * 40)"
   ]
  }
 ],
 "metadata": {
  "kernelspec": {
   "display_name": "base",
   "language": "python",
   "name": "python3"
  },
  "language_info": {
   "codemirror_mode": {
    "name": "ipython",
    "version": 3
   },
   "file_extension": ".py",
   "mimetype": "text/x-python",
   "name": "python",
   "nbconvert_exporter": "python",
   "pygments_lexer": "ipython3",
   "version": "3.11.5"
  }
 },
 "nbformat": 4,
 "nbformat_minor": 2
}
