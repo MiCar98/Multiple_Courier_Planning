{
 "cells": [
  {
   "cell_type": "code",
   "execution_count": 1,
   "metadata": {},
   "outputs": [],
   "source": [
    "from z3 import *"
   ]
  },
  {
   "cell_type": "code",
   "execution_count": 2,
   "metadata": {},
   "outputs": [],
   "source": [
    "# Example problem parameters\n",
    "m = 3  # Number of couriers\n",
    "n = 7  # Number of items\n",
    "\n",
    "# Courier capacities and item sizes\n",
    "load_limits = [15, 10, 7]\n",
    "item_sizes = [3, 2, 6, 8, 5, 4, 4]\n",
    "\n",
    "# Distance matrix between items (including origin point at index n)\n",
    "distance_matrix = [\n",
    "    [0, 3, 3, 6, 5, 6, 6, 2],\n",
    "    [3, 0, 4, 3, 4, 7, 7, 3],\n",
    "    [3, 4, 0, 7, 6, 3, 5, 3],\n",
    "    [6, 3, 7, 0, 3, 6, 6, 4],\n",
    "    [5, 4, 6, 3, 0, 3, 3, 3],\n",
    "    [6, 7, 3, 6, 3, 0, 2, 4],\n",
    "    [6, 7, 5, 6, 3, 2, 0, 4],\n",
    "    [2, 3, 3, 4, 3, 4, 4, 0]\n",
    "]\n"
   ]
  },
  {
   "cell_type": "code",
   "execution_count": 16,
   "metadata": {},
   "outputs": [],
   "source": [
    "# Z3 optimiser initialization\n",
    "optimizer = Optimize()"
   ]
  },
  {
   "cell_type": "code",
   "execution_count": 4,
   "metadata": {},
   "outputs": [],
   "source": [
    "# Boolean variables: x[i][j] = True if courier i is assigned item j\n",
    "x = [[Bool(f\"x_{i}_{j}\") for j in range(n)] for i in range(m)]"
   ]
  },
  {
   "cell_type": "code",
   "execution_count": 5,
   "metadata": {},
   "outputs": [],
   "source": [
    "# Variables for the total distance traveled by each courier\n",
    "total_distance = [Int(f\"D_{i}\") for i in range(m)]"
   ]
  },
  {
   "cell_type": "code",
   "execution_count": 6,
   "metadata": {},
   "outputs": [],
   "source": [
    "# Maximum distance traveled by any courier (to minimize)\n",
    "max_distance = Int('Z')"
   ]
  },
  {
   "cell_type": "markdown",
   "metadata": {},
   "source": [
    "**Constraints**"
   ]
  },
  {
   "cell_type": "code",
   "execution_count": 21,
   "metadata": {},
   "outputs": [],
   "source": [
    "# 1. Each item must be assigned to exactly one courier\n",
    "for j in range(n):\n",
    "    optimizer.add(Sum([If(x[i][j], 1, 0) for i in range(m)]) == 1)"
   ]
  },
  {
   "cell_type": "code",
   "execution_count": 20,
   "metadata": {},
   "outputs": [],
   "source": [
    "# 2. The load carried by each courier must not exceed its capacity\n",
    "for i in range(m):\n",
    "    optimizer.add(Sum([If(x[i][j], item_sizes[j], 0) for j in range(n)]) <= load_limits[i])\n"
   ]
  },
  {
   "cell_type": "code",
   "execution_count": 19,
   "metadata": {},
   "outputs": [],
   "source": [
    "# 3. Distance calculation for each courier based on item assignments\n",
    "for i in range(m):\n",
    "    courier_distances = []\n",
    "    for j in range(n):\n",
    "        for k in range(n):\n",
    "            if j != k:\n",
    "                courier_distances.append(If(And(x[i][j], x[i][k]), distance_matrix[j][k], 0))\n",
    "    \n",
    "    # Distance from the origin to the first assigned item and back to origin\n",
    "    origin_distances = [If(x[i][j], distance_matrix[n][j] + distance_matrix[j][n], 0) for j in range(n)]\n",
    "    \n",
    "    optimizer.add(total_distance[i] == Sum(courier_distances) + Sum(origin_distances))\n",
    "\n",
    "    "
   ]
  },
  {
   "cell_type": "code",
   "execution_count": 18,
   "metadata": {},
   "outputs": [],
   "source": [
    "# 4. Maximize the minimum distance traveled by any courier\n",
    "for i in range(m):\n",
    "    optimizer.add(total_distance[i] <= max_distance)"
   ]
  },
  {
   "cell_type": "code",
   "execution_count": 17,
   "metadata": {},
   "outputs": [
    {
     "data": {
      "text/plain": [
       "<z3.z3.OptimizeObjective at 0x106857a40>"
      ]
     },
     "execution_count": 17,
     "metadata": {},
     "output_type": "execute_result"
    }
   ],
   "source": [
    "# 4. Maximize the minimum distance traveled by any courier\n",
    "# Adding constraints that max_distance is >= total distance for each courier\n",
    "for i in range(m):\n",
    "    optimizer.add(max_distance >= total_distance[i])\n",
    "\n",
    "# Objective: Minimize the maximum distance\n",
    "optimizer.minimize(max_distance)"
   ]
  },
  {
   "cell_type": "code",
   "execution_count": 22,
   "metadata": {},
   "outputs": [
    {
     "name": "stdout",
     "output_type": "stream",
     "text": [
      "Max distance: 40\n",
      "Courier 1 is assigned items: [1, 3, 4] with distance 40\n",
      "Courier 2 is assigned items: [2, 5] with distance 20\n",
      "Courier 3 is assigned items: [0, 6] with distance 24\n"
     ]
    }
   ],
   "source": [
    "# Solve the problem\n",
    "if optimizer.check() == sat:\n",
    "    model = optimizer.model()\n",
    "    print(f\"Max distance: {model[max_distance]}\")\n",
    "    \n",
    "    for i in range(m):\n",
    "        assigned_items = [j for j in range(n) if model[x[i][j]]]\n",
    "        print(f\"Courier {i+1} is assigned items: {assigned_items} with distance {model[total_distance[i]]}\")\n",
    "else:\n",
    "    print(\"No solution found\")"
   ]
  }
 ],
 "metadata": {
  "kernelspec": {
   "display_name": "Python 3",
   "language": "python",
   "name": "python3"
  },
  "language_info": {
   "codemirror_mode": {
    "name": "ipython",
    "version": 3
   },
   "file_extension": ".py",
   "mimetype": "text/x-python",
   "name": "python",
   "nbconvert_exporter": "python",
   "pygments_lexer": "ipython3",
   "version": "3.12.0"
  }
 },
 "nbformat": 4,
 "nbformat_minor": 2
}
