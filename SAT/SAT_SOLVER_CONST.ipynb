{
 "cells": [
  {
   "cell_type": "code",
   "execution_count": 15,
   "metadata": {},
   "outputs": [],
   "source": [
    "from z3 import *"
   ]
  },
  {
   "cell_type": "code",
   "execution_count": 16,
   "metadata": {},
   "outputs": [],
   "source": [
    "# Function to read the .dat file and return the parameters\n",
    "def read_instance(file_path):\n",
    "    with open(file_path, 'r') as f:\n",
    "        lines = f.readlines()\n",
    "\n",
    "    # Parse m (number of couriers) and n (number of items)\n",
    "    m = int(lines[0].strip())\n",
    "    n = int(lines[1].strip())\n",
    "\n",
    "    # Parse load limits\n",
    "    load_limits = list(map(int, lines[2].strip().split()))\n",
    "\n",
    "    # Parse item sizes\n",
    "    item_sizes = list(map(int, lines[3].strip().split()))\n",
    "\n",
    "    # Parse the distance matrix\n",
    "    distance_matrix = []\n",
    "    for i in range(n + 1):  # n+1 because the last row is the origin\n",
    "        distance_matrix.append(list(map(int, lines[4 + i].strip().split())))\n",
    "\n",
    "    return m, n, load_limits, item_sizes, distance_matrix\n"
   ]
  },
  {
   "cell_type": "code",
   "execution_count": 17,
   "metadata": {},
   "outputs": [],
   "source": [
    "# Function to solve the MCP problem using Z3 Optimize\n",
    "def solve_mcp(file_path):\n",
    "    # Read instance data from .dat file\n",
    "    m, n, load_limits, item_sizes, distance_matrix = read_instance(file_path)\n",
    "\n",
    "    # Z3 optimizer initialization\n",
    "    optimizer = Optimize()\n",
    "\n",
    "    # Boolean variables: x[i][j] = True if courier i is assigned item j\n",
    "    x = [[Bool(f\"x_{i}_{j}\") for j in range(n)] for i in range(m)]\n",
    "\n",
    "    # Variables for the total distance traveled by each courier\n",
    "    total_distance = [Int(f\"D_{i}\") for i in range(m)]\n",
    "\n",
    "    # Maximum distance traveled by any courier (to minimize)\n",
    "    max_distance = Int('Z')\n",
    "\n",
    "    # 1. Each item must be assigned to exactly one courier\n",
    "    for j in range(n):\n",
    "        optimizer.add(Sum([If(x[i][j], 1, 0) for i in range(m)]) == 1)\n",
    "\n",
    "    # 2. The load carried by each courier must not exceed its capacity\n",
    "    for i in range(m):\n",
    "        optimizer.add(Sum([If(x[i][j], item_sizes[j], 0) for j in range(n)]) <= load_limits[i])\n",
    "\n",
    "    # 3. Distance calculation for each courier based on item assignments\n",
    "    for i in range(m):\n",
    "        courier_distances = []\n",
    "        for j in range(n):\n",
    "            for k in range(n):\n",
    "                if j != k:\n",
    "                    courier_distances.append(If(And(x[i][j], x[i][k]), distance_matrix[j][k], 0))\n",
    "\n",
    "        # Distance from the origin to the first assigned item and back to origin\n",
    "        origin_distances = [If(x[i][j], distance_matrix[n][j] + distance_matrix[j][n], 0) for j in range(n)]\n",
    "\n",
    "        optimizer.add(total_distance[i] == Sum(courier_distances) + Sum(origin_distances))\n",
    "\n",
    "    # 4. Maximize the minimum distance traveled by any courier\n",
    "    # Adding constraints that max_distance is >= total distance for each courier\n",
    "    for i in range(m):\n",
    "        optimizer.add(max_distance >= total_distance[i])\n",
    "\n",
    "    # Objective: Minimize the maximum distance\n",
    "    optimizer.minimize(max_distance)\n",
    "\n",
    "    # Solve the problem\n",
    "    if optimizer.check() == sat:\n",
    "        model = optimizer.model()\n",
    "        print(f\"Minimized max distance: {model[max_distance]}\")\n",
    "        \n",
    "        for i in range(m):\n",
    "            assigned_items = [j for j in range(n) if model[x[i][j]]]\n",
    "            print(f\"Courier {i+1} is assigned items: {assigned_items} with distance {model[total_distance[i]]}\")\n",
    "    else:\n",
    "        print(\"No solution found\")\n"
   ]
  },
  {
   "cell_type": "code",
   "execution_count": 8,
   "metadata": {},
   "outputs": [
    {
     "name": "stdout",
     "output_type": "stream",
     "text": [
      "Minimized max distance: 51\n",
      "Courier 1 is assigned items: [2, 3, 5] with distance 51\n",
      "Courier 2 is assigned items: [0, 1, 4] with distance 48\n"
     ]
    }
   ],
   "source": [
    "# Call the solve_mcp function with the path to the .dat instance file\n",
    "solve_mcp('/Users/shariqansari/Documents/CDMO/instances/inst01.dat')"
   ]
  },
  {
   "cell_type": "code",
   "execution_count": 9,
   "metadata": {},
   "outputs": [
    {
     "name": "stdout",
     "output_type": "stream",
     "text": [
      "Minimized max distance: 42\n",
      "Courier 1 is assigned items: [1, 3, 4] with distance 42\n",
      "Courier 2 is assigned items: [2, 6] with distance 24\n",
      "Courier 3 is assigned items: [0, 5] with distance 24\n"
     ]
    }
   ],
   "source": [
    "# Call the solve_mcp function with the path to the .dat instance file\n",
    "solve_mcp('/Users/shariqansari/Documents/CDMO/instances/inst03.dat')"
   ]
  },
  {
   "cell_type": "code",
   "execution_count": 10,
   "metadata": {},
   "outputs": [
    {
     "name": "stdout",
     "output_type": "stream",
     "text": [
      "Minimized max distance: 220\n",
      "Courier 1 is assigned items: [0] with distance 106\n",
      "Courier 2 is assigned items: [8] with distance 34\n",
      "Courier 3 is assigned items: [6] with distance 126\n",
      "Courier 4 is assigned items: [9] with distance 80\n",
      "Courier 5 is assigned items: [2, 4] with distance 220\n",
      "Courier 6 is assigned items: [5] with distance 150\n",
      "Courier 7 is assigned items: [1, 3] with distance 219\n",
      "Courier 8 is assigned items: [7] with distance 220\n"
     ]
    }
   ],
   "source": [
    "# Call the solve_mcp function with the path to the .dat instance file\n",
    "solve_mcp('/Users/shariqansari/Documents/CDMO/instances/inst04.dat')"
   ]
  },
  {
   "cell_type": "code",
   "execution_count": 11,
   "metadata": {},
   "outputs": [
    {
     "name": "stdout",
     "output_type": "stream",
     "text": [
      "Minimized max distance: 458\n",
      "Courier 1 is assigned items: [1] with distance 160\n",
      "Courier 2 is assigned items: [0, 2] with distance 458\n"
     ]
    }
   ],
   "source": [
    "# Call the solve_mcp function with the path to the .dat instance file\n",
    "solve_mcp('/Users/shariqansari/Documents/CDMO/instances/inst05.dat')"
   ]
  },
  {
   "cell_type": "code",
   "execution_count": 12,
   "metadata": {},
   "outputs": [
    {
     "name": "stdout",
     "output_type": "stream",
     "text": [
      "Minimized max distance: 322\n",
      "Courier 1 is assigned items: [4] with distance 308\n",
      "Courier 2 is assigned items: [7] with distance 322\n",
      "Courier 3 is assigned items: [3] with distance 202\n",
      "Courier 4 is assigned items: [0] with distance 226\n",
      "Courier 5 is assigned items: [1, 6] with distance 302\n",
      "Courier 6 is assigned items: [2, 5] with distance 120\n"
     ]
    }
   ],
   "source": [
    "# Call the solve_mcp function with the path to the .dat instance file\n",
    "solve_mcp('/Users/shariqansari/Documents/CDMO/instances/inst06.dat')"
   ]
  },
  {
   "cell_type": "code",
   "execution_count": 13,
   "metadata": {},
   "outputs": [
    {
     "name": "stdout",
     "output_type": "stream",
     "text": [
      "No solution found\n"
     ]
    }
   ],
   "source": [
    "# Call the solve_mcp function with the path to the .dat instance file\n",
    "solve_mcp('/Users/shariqansari/Documents/CDMO/instances/inst07.dat')"
   ]
  },
  {
   "cell_type": "code",
   "execution_count": 14,
   "metadata": {},
   "outputs": [],
   "source": [
    "def solve_mcp_const(file_path):\n",
    "    # Read instance data from .dat file\n",
    "    m, n, load_limits, item_sizes, distance_matrix = read_instance(file_path)\n",
    "\n",
    "    # Z3 optimizer initialization\n",
    "    optimizer = Optimize()\n",
    "\n",
    "    # Boolean variables: Z[i][j] is True if courier i is assigned item j\n",
    "    Z = [[Int(f\"Z_{i}_{j}\") for j in range(n+1)] for i in range(m)]  # m couriers, n items + origin\n",
    "\n",
    "    # Variables for the total distance traveled by each courier\n",
    "    Dist = [Int(f\"D_{i}\") for i in range(m)]\n",
    "\n",
    "    # Variables to track which courier carries which item\n",
    "    Carry = [Int(f\"Carry_{j}\") for j in range(n)]\n",
    "\n",
    "    # Define upper bound UB (e.g., a large number for the distances)\n",
    "    UB = sum([sum(row) for row in distance_matrix])\n",
    "\n",
    "    # Lower bound LB: Minimum possible distance (e.g., farthest node)\n",
    "    LB = max([max(row) for row in distance_matrix])\n",
    "\n",
    "    # 1. Lower Bound Constraint\n",
    "    optimizer.add(max(Dist) >= LB)\n",
    "\n",
    "    # 2. Subcircuit Constraint (Ensuring each route is a valid permutation)\n",
    "    for i in range(m):\n",
    "        optimizer.add(Distinct(Z[i]))  # Each row is a distinct permutation (like the subcircuit constraint)\n",
    "\n",
    "    # 3. Load capacities must be respected\n",
    "    for i in range(m):\n",
    "        optimizer.add(Sum([If(Z[i][j] != j + 1, item_sizes[j], 0) for j in range(n)]) <= load_limits[i])\n",
    "\n",
    "    # 4. Each item can only be carried by one courier\n",
    "    for j in range(n):\n",
    "        optimizer.add(Sum([If(Z[i][j] != j + 1, 1, 0) for i in range(m)]) == 1)\n",
    "\n",
    "    # 5. Each courier must leave the depot\n",
    "    for i in range(m):\n",
    "        optimizer.add(Z[i][n] != n + 1)  # Z[i,n+1] != n+1\n",
    "\n",
    "    # 6. Distance formulation for each courier\n",
    "    for i in range(m):\n",
    "        courier_distances = []\n",
    "        for j in range(n):\n",
    "            courier_distances.append(If(Z[i][j] != j + 1, distance_matrix[j][Z[i][j]], 0))\n",
    "\n",
    "        origin_distances = [If(Z[i][j] != j + 1, distance_matrix[n][j] + distance_matrix[j][n], 0) for j in range(n)]\n",
    "\n",
    "        optimizer.add(Dist[i] == Sum(courier_distances) + Sum(origin_distances))\n",
    "\n",
    "    # 7. Carry assignment formulation\n",
    "    for j in range(n):\n",
    "        for i in range(m):\n",
    "            optimizer.add(Implies(Z[i][j] != j + 1, Carry[j] == i + 1))\n",
    "\n",
    "    # Redundant constraint: Enforcing load capacities (bin-packing problem)\n",
    "    optimizer.add(Sum([If(Carry[j] == i + 1, item_sizes[j], 0) for j in range(n)]) <= load_limits[i] for i in range(m))\n",
    "\n",
    "    # Objective: Minimize the maximum distance\n",
    "    optimizer.minimize(max(Dist))\n",
    "\n",
    "    # Solve the problem\n",
    "    if optimizer.check() == sat:\n",
    "        model = optimizer.model()\n",
    "        print(f\"Minimized max distance: {model[max(Dist)]}\")\n",
    "        \n",
    "        for i in range(m):\n",
    "            assigned_items = [j for j in range(n) if model[Z[i][j]] != j + 1]\n",
    "            print(f\"Courier {i+1} is assigned items: {assigned_items} with distance {model[Dist[i]]}\")\n",
    "    else:\n",
    "        print(\"No solution found\")"
   ]
  },
  {
   "cell_type": "code",
   "execution_count": 18,
   "metadata": {},
   "outputs": [
    {
     "name": "stdout",
     "output_type": "stream",
     "text": [
      "Minimized max distance: 51\n",
      "Courier 1 is assigned items: [2, 3, 5] with distance 51\n",
      "Courier 2 is assigned items: [0, 1, 4] with distance 48\n"
     ]
    }
   ],
   "source": [
    "# Call the solve_mcp function with the path to the .dat instance file\n",
    "solve_mcp('/Users/shariqansari/Documents/CDMO/instances/inst01.dat')"
   ]
  },
  {
   "cell_type": "code",
   "execution_count": 19,
   "metadata": {},
   "outputs": [
    {
     "ename": "Z3Exception",
     "evalue": "Symbolic expressions cannot be cast to concrete Boolean values.",
     "output_type": "error",
     "traceback": [
      "\u001b[0;31m---------------------------------------------------------------------------\u001b[0m",
      "\u001b[0;31mZ3Exception\u001b[0m                               Traceback (most recent call last)",
      "\u001b[0;32m/var/folders/l8/xfysm7vs5bxbf25xt20xzzy40000gn/T/ipykernel_10668/1441823667.py\u001b[0m in \u001b[0;36m?\u001b[0;34m()\u001b[0m\n\u001b[1;32m      1\u001b[0m \u001b[0;31m# Call the solve_mcp function with the path to the .dat instance file\u001b[0m\u001b[0;34m\u001b[0m\u001b[0;34m\u001b[0m\u001b[0m\n\u001b[0;32m----> 2\u001b[0;31m \u001b[0msolve_mcp_const\u001b[0m\u001b[0;34m(\u001b[0m\u001b[0;34m'/Users/shariqansari/Documents/CDMO/instances/inst01.dat'\u001b[0m\u001b[0;34m)\u001b[0m\u001b[0;34m\u001b[0m\u001b[0;34m\u001b[0m\u001b[0m\n\u001b[0m",
      "\u001b[0;32m/var/folders/l8/xfysm7vs5bxbf25xt20xzzy40000gn/T/ipykernel_10668/3179947541.py\u001b[0m in \u001b[0;36m?\u001b[0;34m(file_path)\u001b[0m\n\u001b[1;32m     20\u001b[0m     \u001b[0;31m# Lower bound LB: Minimum possible distance (e.g., farthest node)\u001b[0m\u001b[0;34m\u001b[0m\u001b[0;34m\u001b[0m\u001b[0m\n\u001b[1;32m     21\u001b[0m     \u001b[0mLB\u001b[0m \u001b[0;34m=\u001b[0m \u001b[0mmax\u001b[0m\u001b[0;34m(\u001b[0m\u001b[0;34m[\u001b[0m\u001b[0mmax\u001b[0m\u001b[0;34m(\u001b[0m\u001b[0mrow\u001b[0m\u001b[0;34m)\u001b[0m \u001b[0;32mfor\u001b[0m \u001b[0mrow\u001b[0m \u001b[0;32min\u001b[0m \u001b[0mdistance_matrix\u001b[0m\u001b[0;34m]\u001b[0m\u001b[0;34m)\u001b[0m\u001b[0;34m\u001b[0m\u001b[0;34m\u001b[0m\u001b[0m\n\u001b[1;32m     22\u001b[0m \u001b[0;34m\u001b[0m\u001b[0m\n\u001b[1;32m     23\u001b[0m     \u001b[0;31m# 1. Lower Bound Constraint\u001b[0m\u001b[0;34m\u001b[0m\u001b[0;34m\u001b[0m\u001b[0m\n\u001b[0;32m---> 24\u001b[0;31m     \u001b[0moptimizer\u001b[0m\u001b[0;34m.\u001b[0m\u001b[0madd\u001b[0m\u001b[0;34m(\u001b[0m\u001b[0mmax\u001b[0m\u001b[0;34m(\u001b[0m\u001b[0mDist\u001b[0m\u001b[0;34m)\u001b[0m \u001b[0;34m>=\u001b[0m \u001b[0mLB\u001b[0m\u001b[0;34m)\u001b[0m\u001b[0;34m\u001b[0m\u001b[0;34m\u001b[0m\u001b[0m\n\u001b[0m\u001b[1;32m     25\u001b[0m \u001b[0;34m\u001b[0m\u001b[0m\n\u001b[1;32m     26\u001b[0m     \u001b[0;31m# 2. Subcircuit Constraint (Ensuring each route is a valid permutation)\u001b[0m\u001b[0;34m\u001b[0m\u001b[0;34m\u001b[0m\u001b[0m\n\u001b[1;32m     27\u001b[0m     \u001b[0;32mfor\u001b[0m \u001b[0mi\u001b[0m \u001b[0;32min\u001b[0m \u001b[0mrange\u001b[0m\u001b[0;34m(\u001b[0m\u001b[0mm\u001b[0m\u001b[0;34m)\u001b[0m\u001b[0;34m:\u001b[0m\u001b[0;34m\u001b[0m\u001b[0;34m\u001b[0m\u001b[0m\n",
      "\u001b[0;32m/Library/Frameworks/Python.framework/Versions/3.12/lib/python3.12/site-packages/z3/z3.py\u001b[0m in \u001b[0;36m?\u001b[0;34m(self)\u001b[0m\n\u001b[1;32m    377\u001b[0m             \u001b[0;32mreturn\u001b[0m \u001b[0;32mFalse\u001b[0m\u001b[0;34m\u001b[0m\u001b[0;34m\u001b[0m\u001b[0m\n\u001b[1;32m    378\u001b[0m         \u001b[0;32melif\u001b[0m \u001b[0mis_eq\u001b[0m\u001b[0;34m(\u001b[0m\u001b[0mself\u001b[0m\u001b[0;34m)\u001b[0m \u001b[0;32mand\u001b[0m \u001b[0mself\u001b[0m\u001b[0;34m.\u001b[0m\u001b[0mnum_args\u001b[0m\u001b[0;34m(\u001b[0m\u001b[0;34m)\u001b[0m \u001b[0;34m==\u001b[0m \u001b[0;36m2\u001b[0m\u001b[0;34m:\u001b[0m\u001b[0;34m\u001b[0m\u001b[0;34m\u001b[0m\u001b[0m\n\u001b[1;32m    379\u001b[0m             \u001b[0;32mreturn\u001b[0m \u001b[0mself\u001b[0m\u001b[0;34m.\u001b[0m\u001b[0marg\u001b[0m\u001b[0;34m(\u001b[0m\u001b[0;36m0\u001b[0m\u001b[0;34m)\u001b[0m\u001b[0;34m.\u001b[0m\u001b[0meq\u001b[0m\u001b[0;34m(\u001b[0m\u001b[0mself\u001b[0m\u001b[0;34m.\u001b[0m\u001b[0marg\u001b[0m\u001b[0;34m(\u001b[0m\u001b[0;36m1\u001b[0m\u001b[0;34m)\u001b[0m\u001b[0;34m)\u001b[0m\u001b[0;34m\u001b[0m\u001b[0;34m\u001b[0m\u001b[0m\n\u001b[1;32m    380\u001b[0m         \u001b[0;32melse\u001b[0m\u001b[0;34m:\u001b[0m\u001b[0;34m\u001b[0m\u001b[0;34m\u001b[0m\u001b[0m\n\u001b[0;32m--> 381\u001b[0;31m             \u001b[0;32mraise\u001b[0m \u001b[0mZ3Exception\u001b[0m\u001b[0;34m(\u001b[0m\u001b[0;34m\"Symbolic expressions cannot be cast to concrete Boolean values.\"\u001b[0m\u001b[0;34m)\u001b[0m\u001b[0;34m\u001b[0m\u001b[0;34m\u001b[0m\u001b[0m\n\u001b[0m",
      "\u001b[0;31mZ3Exception\u001b[0m: Symbolic expressions cannot be cast to concrete Boolean values."
     ]
    }
   ],
   "source": [
    "# Call the solve_mcp function with the path to the .dat instance file\n",
    "solve_mcp_const('/Users/shariqansari/Documents/CDMO/instances/inst01.dat')"
   ]
  },
  {
   "cell_type": "code",
   "execution_count": 26,
   "metadata": {},
   "outputs": [],
   "source": [
    "def solve_mcp_hard(file_path):\n",
    "    # Read instance data from .dat file\n",
    "    m, n, load_limits, item_sizes, distance_matrix = read_instance(file_path)\n",
    "\n",
    "    # Z3 optimizer initialization\n",
    "    optimizer = Optimize()\n",
    "\n",
    "    # Integer variables: Z[i][j] represents the destination node courier i goes after visiting node j\n",
    "    Z = [[Int(f\"Z_{i}_{j}\") for j in range(n+1)] for i in range(m)]  # m couriers, n items + origin\n",
    "\n",
    "    # Variables for the total distance traveled by each courier\n",
    "    Dist = [Int(f\"D_{i}\") for i in range(m)]\n",
    "\n",
    "    # Variables to track which courier carries which item\n",
    "    Carry = [Int(f\"Carry_{j}\") for j in range(n)]\n",
    "\n",
    "    # Define upper bound UB (e.g., a large number for the distances)\n",
    "    UB = sum([sum(row) for row in distance_matrix])\n",
    "\n",
    "    # Lower bound LB: Minimum possible distance (e.g., farthest node)\n",
    "    LB = max([max(row) for row in distance_matrix])\n",
    "\n",
    "    # 1. Lower Bound Constraint (Ensure the maximum distance is greater than or equal to LB)\n",
    "    max_dist = Dist[0]\n",
    "    for i in range(1, m):\n",
    "        max_dist = If(Dist[i] > max_dist, Dist[i], max_dist)  # Z3's version of `max`\n",
    "    optimizer.add(max_dist >= LB)\n",
    "\n",
    "    # 2. Subcircuit Constraint (Ensuring each route is a valid permutation)\n",
    "    for i in range(m):\n",
    "        optimizer.add(Distinct(Z[i]))  # Each row is a distinct permutation (like the subcircuit constraint)\n",
    "\n",
    "    # 3. Load capacities must be respected\n",
    "    for i in range(m):\n",
    "        optimizer.add(Sum([If(Z[i][j] != j + 1, item_sizes[j], 0) for j in range(n)]) <= load_limits[i])\n",
    "\n",
    "    # 4. Each item can only be carried by one courier\n",
    "    for j in range(n):\n",
    "        optimizer.add(Sum([If(Z[i][j] != j + 1, 1, 0) for i in range(m)]) == 1)\n",
    "\n",
    "    # 5. Each courier must leave the depot\n",
    "    for i in range(m):\n",
    "        optimizer.add(Z[i][n] != n + 1)  # Z[i,n+1] != n+1\n",
    "\n",
    "    # 6. Distance formulation for each courier\n",
    "    for i in range(m):\n",
    "        courier_distances = []\n",
    "        for j in range(n):\n",
    "            # Use conditional If statements to compute distance based on Z[i][j]\n",
    "            courier_distances.append(\n",
    "                Sum([If(Z[i][j] == k, distance_matrix[j][k], 0) for k in range(n+1)])\n",
    "            )\n",
    "\n",
    "        # Distance from the origin to the first assigned item and back to origin\n",
    "        origin_distances = [If(Z[i][j] != j + 1, distance_matrix[n][j] + distance_matrix[j][n], 0) for j in range(n)]\n",
    "\n",
    "        optimizer.add(Dist[i] == Sum(courier_distances) + Sum(origin_distances))\n",
    "\n",
    "    # 7. Carry assignment formulation\n",
    "    for j in range(n):\n",
    "        for i in range(m):\n",
    "            optimizer.add(Implies(Z[i][j] != j + 1, Carry[j] == i + 1))\n",
    "\n",
    "    # 8. Enforcing load capacities (bin-packing problem) per courier\n",
    "    for i in range(m):\n",
    "        optimizer.add(Sum([If(Carry[j] == i + 1, item_sizes[j], 0) for j in range(n)]) <= load_limits[i])\n",
    "\n",
    "    # Objective: Minimize the maximum distance\n",
    "    optimizer.minimize(max_dist)\n",
    "    max_dist = Int('max_dist') \n",
    "\n",
    "    # Solve the problem\n",
    "    if optimizer.check() == sat:\n",
    "        model = optimizer.model()\n",
    "        print(f\"Minimized max distance: {model[max_dist]}\")\n",
    "        \n",
    "        for i in range(m):\n",
    "            assigned_items = [j for j in range(n) if model[Z[i][j]] != j + 1]\n",
    "            print(f\"Courier {i+1} is assigned items: {assigned_items} with distance {model[Dist[i]]}\")\n",
    "    else:\n",
    "        print(\"No solution found\")\n",
    "\n"
   ]
  },
  {
   "cell_type": "code",
   "execution_count": 27,
   "metadata": {},
   "outputs": [
    {
     "name": "stdout",
     "output_type": "stream",
     "text": [
      "Minimized max distance: None\n"
     ]
    },
    {
     "ename": "Z3Exception",
     "evalue": "Symbolic expressions cannot be cast to concrete Boolean values.",
     "output_type": "error",
     "traceback": [
      "\u001b[0;31m---------------------------------------------------------------------------\u001b[0m",
      "\u001b[0;31mZ3Exception\u001b[0m                               Traceback (most recent call last)",
      "\u001b[0;32m/var/folders/l8/xfysm7vs5bxbf25xt20xzzy40000gn/T/ipykernel_10668/3480555174.py\u001b[0m in \u001b[0;36m?\u001b[0;34m()\u001b[0m\n\u001b[0;32m----> 1\u001b[0;31m \u001b[0msolve_mcp_hard\u001b[0m\u001b[0;34m(\u001b[0m\u001b[0;34m'/Users/shariqansari/Documents/CDMO/instances/inst01.dat'\u001b[0m\u001b[0;34m)\u001b[0m\u001b[0;34m\u001b[0m\u001b[0;34m\u001b[0m\u001b[0m\n\u001b[0m",
      "\u001b[0;32m/var/folders/l8/xfysm7vs5bxbf25xt20xzzy40000gn/T/ipykernel_10668/2840352105.py\u001b[0m in \u001b[0;36m?\u001b[0;34m(file_path)\u001b[0m\n\u001b[1;32m     74\u001b[0m         \u001b[0mmodel\u001b[0m \u001b[0;34m=\u001b[0m \u001b[0moptimizer\u001b[0m\u001b[0;34m.\u001b[0m\u001b[0mmodel\u001b[0m\u001b[0;34m(\u001b[0m\u001b[0;34m)\u001b[0m\u001b[0;34m\u001b[0m\u001b[0;34m\u001b[0m\u001b[0m\n\u001b[1;32m     75\u001b[0m         \u001b[0mprint\u001b[0m\u001b[0;34m(\u001b[0m\u001b[0;34mf\"\u001b[0m\u001b[0;34mMinimized max distance: \u001b[0m\u001b[0;34m{\u001b[0m\u001b[0mmodel\u001b[0m\u001b[0;34m[\u001b[0m\u001b[0mmax_dist\u001b[0m\u001b[0;34m]\u001b[0m\u001b[0;34m}\u001b[0m\u001b[0;34m\"\u001b[0m\u001b[0;34m)\u001b[0m\u001b[0;34m\u001b[0m\u001b[0;34m\u001b[0m\u001b[0m\n\u001b[1;32m     76\u001b[0m \u001b[0;34m\u001b[0m\u001b[0m\n\u001b[1;32m     77\u001b[0m         \u001b[0;32mfor\u001b[0m \u001b[0mi\u001b[0m \u001b[0;32min\u001b[0m \u001b[0mrange\u001b[0m\u001b[0;34m(\u001b[0m\u001b[0mm\u001b[0m\u001b[0;34m)\u001b[0m\u001b[0;34m:\u001b[0m\u001b[0;34m\u001b[0m\u001b[0;34m\u001b[0m\u001b[0m\n\u001b[0;32m---> 78\u001b[0;31m             \u001b[0massigned_items\u001b[0m \u001b[0;34m=\u001b[0m \u001b[0;34m[\u001b[0m\u001b[0mj\u001b[0m \u001b[0;32mfor\u001b[0m \u001b[0mj\u001b[0m \u001b[0;32min\u001b[0m \u001b[0mrange\u001b[0m\u001b[0;34m(\u001b[0m\u001b[0mn\u001b[0m\u001b[0;34m)\u001b[0m \u001b[0;32mif\u001b[0m \u001b[0mmodel\u001b[0m\u001b[0;34m[\u001b[0m\u001b[0mZ\u001b[0m\u001b[0;34m[\u001b[0m\u001b[0mi\u001b[0m\u001b[0;34m]\u001b[0m\u001b[0;34m[\u001b[0m\u001b[0mj\u001b[0m\u001b[0;34m]\u001b[0m\u001b[0;34m]\u001b[0m \u001b[0;34m!=\u001b[0m \u001b[0mj\u001b[0m \u001b[0;34m+\u001b[0m \u001b[0;36m1\u001b[0m\u001b[0;34m]\u001b[0m\u001b[0;34m\u001b[0m\u001b[0;34m\u001b[0m\u001b[0m\n\u001b[0m\u001b[1;32m     79\u001b[0m             \u001b[0mprint\u001b[0m\u001b[0;34m(\u001b[0m\u001b[0;34mf\"\u001b[0m\u001b[0;34mCourier \u001b[0m\u001b[0;34m{\u001b[0m\u001b[0mi\u001b[0m\u001b[0;34m+\u001b[0m\u001b[0;36m1\u001b[0m\u001b[0;34m}\u001b[0m\u001b[0;34m is assigned items: \u001b[0m\u001b[0;34m{\u001b[0m\u001b[0massigned_items\u001b[0m\u001b[0;34m}\u001b[0m\u001b[0;34m with distance \u001b[0m\u001b[0;34m{\u001b[0m\u001b[0mmodel\u001b[0m\u001b[0;34m[\u001b[0m\u001b[0mDist\u001b[0m\u001b[0;34m[\u001b[0m\u001b[0mi\u001b[0m\u001b[0;34m]\u001b[0m\u001b[0;34m]\u001b[0m\u001b[0;34m}\u001b[0m\u001b[0;34m\"\u001b[0m\u001b[0;34m)\u001b[0m\u001b[0;34m\u001b[0m\u001b[0;34m\u001b[0m\u001b[0m\n\u001b[1;32m     80\u001b[0m     \u001b[0;32melse\u001b[0m\u001b[0;34m:\u001b[0m\u001b[0;34m\u001b[0m\u001b[0;34m\u001b[0m\u001b[0m\n\u001b[1;32m     81\u001b[0m         \u001b[0mprint\u001b[0m\u001b[0;34m(\u001b[0m\u001b[0;34m\"No solution found\"\u001b[0m\u001b[0;34m)\u001b[0m\u001b[0;34m\u001b[0m\u001b[0;34m\u001b[0m\u001b[0m\n",
      "\u001b[0;32m/Library/Frameworks/Python.framework/Versions/3.12/lib/python3.12/site-packages/z3/z3.py\u001b[0m in \u001b[0;36m?\u001b[0;34m(self)\u001b[0m\n\u001b[1;32m    377\u001b[0m             \u001b[0;32mreturn\u001b[0m \u001b[0;32mFalse\u001b[0m\u001b[0;34m\u001b[0m\u001b[0;34m\u001b[0m\u001b[0m\n\u001b[1;32m    378\u001b[0m         \u001b[0;32melif\u001b[0m \u001b[0mis_eq\u001b[0m\u001b[0;34m(\u001b[0m\u001b[0mself\u001b[0m\u001b[0;34m)\u001b[0m \u001b[0;32mand\u001b[0m \u001b[0mself\u001b[0m\u001b[0;34m.\u001b[0m\u001b[0mnum_args\u001b[0m\u001b[0;34m(\u001b[0m\u001b[0;34m)\u001b[0m \u001b[0;34m==\u001b[0m \u001b[0;36m2\u001b[0m\u001b[0;34m:\u001b[0m\u001b[0;34m\u001b[0m\u001b[0;34m\u001b[0m\u001b[0m\n\u001b[1;32m    379\u001b[0m             \u001b[0;32mreturn\u001b[0m \u001b[0mself\u001b[0m\u001b[0;34m.\u001b[0m\u001b[0marg\u001b[0m\u001b[0;34m(\u001b[0m\u001b[0;36m0\u001b[0m\u001b[0;34m)\u001b[0m\u001b[0;34m.\u001b[0m\u001b[0meq\u001b[0m\u001b[0;34m(\u001b[0m\u001b[0mself\u001b[0m\u001b[0;34m.\u001b[0m\u001b[0marg\u001b[0m\u001b[0;34m(\u001b[0m\u001b[0;36m1\u001b[0m\u001b[0;34m)\u001b[0m\u001b[0;34m)\u001b[0m\u001b[0;34m\u001b[0m\u001b[0;34m\u001b[0m\u001b[0m\n\u001b[1;32m    380\u001b[0m         \u001b[0;32melse\u001b[0m\u001b[0;34m:\u001b[0m\u001b[0;34m\u001b[0m\u001b[0;34m\u001b[0m\u001b[0m\n\u001b[0;32m--> 381\u001b[0;31m             \u001b[0;32mraise\u001b[0m \u001b[0mZ3Exception\u001b[0m\u001b[0;34m(\u001b[0m\u001b[0;34m\"Symbolic expressions cannot be cast to concrete Boolean values.\"\u001b[0m\u001b[0;34m)\u001b[0m\u001b[0;34m\u001b[0m\u001b[0;34m\u001b[0m\u001b[0m\n\u001b[0m",
      "\u001b[0;31mZ3Exception\u001b[0m: Symbolic expressions cannot be cast to concrete Boolean values."
     ]
    }
   ],
   "source": [
    "solve_mcp_hard('/Users/shariqansari/Documents/CDMO/instances/inst01.dat')"
   ]
  },
  {
   "cell_type": "code",
   "execution_count": null,
   "metadata": {},
   "outputs": [],
   "source": []
  }
 ],
 "metadata": {
  "kernelspec": {
   "display_name": "Python 3",
   "language": "python",
   "name": "python3"
  },
  "language_info": {
   "codemirror_mode": {
    "name": "ipython",
    "version": 3
   },
   "file_extension": ".py",
   "mimetype": "text/x-python",
   "name": "python",
   "nbconvert_exporter": "python",
   "pygments_lexer": "ipython3",
   "version": "3.12.0"
  }
 },
 "nbformat": 4,
 "nbformat_minor": 2
}
